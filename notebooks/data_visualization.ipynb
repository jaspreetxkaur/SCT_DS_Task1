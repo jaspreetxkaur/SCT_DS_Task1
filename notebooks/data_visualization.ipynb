# 📊 SCT_DS_Task1 - Advanced Data Visualization (Age Group + Gender)

# ✅ Step 1: Import Libraries
import pandas as pd
import matplotlib.pyplot as plt
import seaborn as sns

# ✅ Step 2: Load Dataset
data = pd.read_csv('../dataset/sample_dataset.csv')

# ✅ Step 3: Display Data
print("Dataset:")
print(data.head())

# ✅ Step 4: Grouped Bar Chart (Age Group vs Gender)
plt.figure(figsize=(10, 6))
sns.barplot(x='Age_Group', y='Value', hue='Gender', data=data, palette='viridis')
plt.title('Age Group Distribution by Gender')
plt.xlabel('Age Group')
plt.ylabel('Count')
plt.legend(title='Gender')
plt.savefig('../output/grouped_bar_chart.png')
plt.show()

# ✅ Step 5: Histogram (Values by Gender)
plt.figure(figsize=(10, 6))
sns.histplot(data=data, x='Value', hue='Gender', multiple='stack', bins=10, palette='coolwarm')
plt.title('Histogram of Counts by Gender')
plt.xlabel('Count')
plt.ylabel('Frequency')
plt.savefig('../output/gender_histogram.png')
plt.show()

